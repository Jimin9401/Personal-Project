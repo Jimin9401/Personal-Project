{
 "cells": [
  {
   "cell_type": "code",
   "execution_count": 1,
   "metadata": {},
   "outputs": [],
   "source": [
    "import torch\n",
    "import torch.nn as nn\n",
    "import torch.optim as optim\n",
    "import torchvision\n",
    "from torch.autograd import Variable\n",
    "import pandas as pd\n",
    "import numpy as np\n",
    "torch.manual_seed(777)\n",
    "from gensim.models import Word2Vec\n",
    "import torch.nn.functional as F\n",
    "from sklearn.model_selection import train_test_split\n",
    "device = torch.device('cuda:0' if torch.cuda.is_available() else 'cpu')\n",
    "from torch.utils.data import DataLoader,Dataset\n",
    "from sklearn.metrics import f1_score,confusion_matrix,accuracy_score,precision_score,recall_score\n",
    "import seaborn as sns\n",
    "import matplotlib.pyplot as plt\n",
    "from sklearn.svm import SVC\n",
    "from pprint import pprint\n",
    "\n",
    "from gensim.models import KeyedVectors\n",
    "%matplotlib inline"
   ]
  },
  {
   "cell_type": "code",
   "execution_count": 2,
   "metadata": {},
   "outputs": [],
   "source": [
    "import pickle\n",
    "\n",
    "with open(\"./pickle_data/token_data.pickle\", \"rb\") as f:\n",
    "    token_data = pickle.load(f)\n",
    "with open(\"./pickle_data/token_data.pickle\", \"rb\") as f:\n",
    "    token_data = pickle.load(f)\n",
    "with open(\"./pickle_data/token_data.pickle\", \"rb\") as f:\n",
    "    token_data = pickle.load(f)\n",
    "with open(\"./pickle_data/token_data.pickle\", \"rb\") as f:\n",
    "    token_data = pickle.load(f)\n",
    "with open(\"./pickle_data/token_data.pickle\", \"rb\") as f:\n",
    "    token_data = pickle.load(f)\n",
    "with open(\"./pickle_data/token_data.pickle\", \"rb\") as f:\n",
    "    token_data = pickle.load(f)"
   ]
  },
  {
   "cell_type": "code",
   "execution_count": 5,
   "metadata": {},
   "outputs": [],
   "source": [
    "comment=token_data['comment']\n",
    "#target=token_data['target']\n",
    "#comment_idx=token_data['comment_ix']\n",
    "#word2idx=token_data['word2ix']\n",
    "#idx2word=token_data['ix2word']\n",
    "\n"
   ]
  },
  {
   "cell_type": "code",
   "execution_count": 6,
   "metadata": {},
   "outputs": [
    {
     "data": {
      "text/plain": [
       "45525"
      ]
     },
     "execution_count": 6,
     "metadata": {},
     "output_type": "execute_result"
    }
   ],
   "source": [
    "len(comment)"
   ]
  },
  {
   "cell_type": "code",
   "execution_count": null,
   "metadata": {},
   "outputs": [],
   "source": [
    "comment=token_data['comment']\n",
    "#target=token_data['target']\n",
    "#comment_idx=token_data['comment_ix']\n",
    "#word2idx=token_data['word2ix']\n",
    "#idx2word=token_data['ix2word']\n"
   ]
  }
 ],
 "metadata": {
  "kernelspec": {
   "display_name": "Python 3",
   "language": "python",
   "name": "python3"
  },
  "language_info": {
   "codemirror_mode": {
    "name": "ipython",
    "version": 3
   },
   "file_extension": ".py",
   "mimetype": "text/x-python",
   "name": "python",
   "nbconvert_exporter": "python",
   "pygments_lexer": "ipython3",
   "version": "3.6.6"
  }
 },
 "nbformat": 4,
 "nbformat_minor": 2
}
