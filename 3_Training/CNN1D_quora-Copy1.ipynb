{
 "cells": [
  {
   "cell_type": "code",
   "execution_count": 67,
   "metadata": {},
   "outputs": [],
   "source": [
    "import torch\n",
    "import torch.nn as nn\n",
    "import torch.optim as optim\n",
    "import torchvision\n",
    "from torch.autograd import Variable\n",
    "import pandas as pd\n",
    "import numpy as np\n",
    "torch.manual_seed(777)\n",
    "from gensim.models import Word2Vec\n",
    "import torch.nn.functional as F\n",
    "from sklearn.model_selection import train_test_split\n",
    "device = torch.device('cuda:0' if torch.cuda.is_available() else 'cpu')\n",
    "from torch.utils.data import DataLoader,Dataset\n",
    "from sklearn.metrics import f1_score,confusion_matrix,accuracy_score,precision_score,recall_score\n",
    "import seaborn as sns\n",
    "import matplotlib.pyplot as plt\n",
    "from sklearn.svm import SVC\n",
    "from pprint import pprint\n",
    "\n",
    "from gensim.models import KeyedVectors\n",
    "%matplotlib inline"
   ]
  },
  {
   "cell_type": "code",
   "execution_count": 68,
   "metadata": {},
   "outputs": [],
   "source": [
    "import pickle\n",
    "\n",
    "with open(\"./pickle_data/quora.pickle\", \"rb\") as f:\n",
    "    token_data = pickle.load(f)"
   ]
  },
  {
   "cell_type": "code",
   "execution_count": 69,
   "metadata": {},
   "outputs": [],
   "source": [
    "question=token_data['sentence']\n",
    "target=token_data['target']\n",
    "word2idx=token_data['word2idx']\n",
    "idx2word=token_data['idx2word']\n"
   ]
  },
  {
   "cell_type": "code",
   "execution_count": 70,
   "metadata": {},
   "outputs": [
    {
     "data": {
      "text/plain": [
       "[['How',\n",
       "  'did',\n",
       "  'Quebec',\n",
       "  'nationalist',\n",
       "  'see',\n",
       "  'their',\n",
       "  'province',\n",
       "  'a',\n",
       "  'a',\n",
       "  'nation',\n",
       "  'in',\n",
       "  'the',\n",
       "  '1960s'],\n",
       " ['Do',\n",
       "  'you',\n",
       "  'have',\n",
       "  'an',\n",
       "  'adopted',\n",
       "  'dog',\n",
       "  'how',\n",
       "  'would',\n",
       "  'you',\n",
       "  'encourage',\n",
       "  'people',\n",
       "  'to',\n",
       "  'adopt',\n",
       "  'and',\n",
       "  'not',\n",
       "  'shop']]"
      ]
     },
     "execution_count": 70,
     "metadata": {},
     "output_type": "execute_result"
    }
   ],
   "source": [
    "question[:2]"
   ]
  },
  {
   "cell_type": "code",
   "execution_count": 71,
   "metadata": {},
   "outputs": [
    {
     "data": {
      "text/plain": [
       "[0, 0]"
      ]
     },
     "execution_count": 71,
     "metadata": {},
     "output_type": "execute_result"
    }
   ],
   "source": [
    "target[:2]"
   ]
  },
  {
   "cell_type": "code",
   "execution_count": 72,
   "metadata": {},
   "outputs": [],
   "source": [
    "li1=[]\n",
    "question_list=[]\n",
    "for i in question:\n",
    "    for k in i:\n",
    "        li1.append(word2idx[k])\n",
    "    \n",
    "    question_list.append(li1)\n",
    "    li1=[]"
   ]
  },
  {
   "cell_type": "code",
   "execution_count": 73,
   "metadata": {},
   "outputs": [],
   "source": [
    "model_word2vec=KeyedVectors.load_word2vec_format('./Embedding_model/GoogleNews-vectors-negative300.bin',binary=True)"
   ]
  },
  {
   "cell_type": "code",
   "execution_count": 74,
   "metadata": {},
   "outputs": [
    {
     "data": {
      "text/plain": [
       "300"
      ]
     },
     "execution_count": 74,
     "metadata": {},
     "output_type": "execute_result"
    }
   ],
   "source": [
    "model_word2vec.vector_size"
   ]
  },
  {
   "cell_type": "code",
   "execution_count": 75,
   "metadata": {},
   "outputs": [
    {
     "name": "stdout",
     "output_type": "stream",
     "text": [
      "227234\n",
      "227234\n"
     ]
    }
   ],
   "source": [
    "embedding_matrix = []\n",
    "\n",
    "for word in word2idx.keys():\n",
    "    try:\n",
    "        embedding_matrix.append(model_word2vec[word])\n",
    "    except:\n",
    "        embedding_matrix.append(np.zeros(300))\n",
    "\n",
    "print(len(word2idx))\n",
    "print(len(embedding_matrix))\n",
    "\n",
    "embedding_matrix = torch.Tensor(embedding_matrix)"
   ]
  },
  {
   "cell_type": "code",
   "execution_count": 76,
   "metadata": {},
   "outputs": [],
   "source": [
    "_,X,_,y=train_test_split(question_list,target,test_size=0.05,random_state=777,stratify=target)"
   ]
  },
  {
   "cell_type": "code",
   "execution_count": 78,
   "metadata": {},
   "outputs": [
    {
     "data": {
      "text/plain": [
       "65307"
      ]
     },
     "execution_count": 78,
     "metadata": {},
     "output_type": "execute_result"
    }
   ],
   "source": [
    "len(X)"
   ]
  },
  {
   "cell_type": "code",
   "execution_count": 79,
   "metadata": {},
   "outputs": [
    {
     "data": {
      "text/plain": [
       "65307"
      ]
     },
     "execution_count": 79,
     "metadata": {},
     "output_type": "execute_result"
    }
   ],
   "source": [
    "len(y)"
   ]
  },
  {
   "cell_type": "code",
   "execution_count": 105,
   "metadata": {},
   "outputs": [],
   "source": [
    "X_train,X_test,y_train,y_test=train_test_split(X,y,test_size=0.3,random_state=777,stratify=y)"
   ]
  },
  {
   "cell_type": "code",
   "execution_count": 106,
   "metadata": {},
   "outputs": [],
   "source": [
    "class Dataset(Dataset):\n",
    "    def __init__(self, X_data, y_data):\n",
    "        self.X_data = X_data\n",
    "        self.y_data = y_data\n",
    "        \n",
    "    def __getitem__(self, index):\n",
    "        return self.X_data[index], self.y_data[index]\n",
    "        \n",
    "    def __len__ (self):\n",
    "        return len(self.X_data)\n",
    "\n",
    "train_data = Dataset(np.array(X_train), y_train)\n",
    "test_data = Dataset(np.array(X_test), y_test)"
   ]
  },
  {
   "cell_type": "code",
   "execution_count": 107,
   "metadata": {},
   "outputs": [],
   "source": [
    "class Conv_net_1d(nn.Module):\n",
    "    def __init__(self,out_channels,num_class,input_size,embedding_matrix,filter_list):\n",
    "        super(Conv_net_1d,self).__init__()\n",
    "        self.embed=nn.Embedding.from_pretrained(embeddings=embedding_matrix)    \n",
    "        self.filter_1= nn.Sequential(\n",
    "                            nn.Conv1d(in_channels=1,stride=1,padding=0,kernel_size=filter_list[0]*input_size,out_channels=out_channels),\n",
    "                            nn.BatchNorm1d(out_channels),\n",
    "                            nn.ReLU()         \n",
    "                        )\n",
    "        \n",
    "        self.filter_2= nn.Sequential(\n",
    "                            nn.Conv1d(in_channels=1,stride=1,padding=0,kernel_size=filter_list[1]*input_size,out_channels=out_channels),\n",
    "                            nn.BatchNorm1d(out_channels),\n",
    "                            nn.ReLU()\n",
    "                        )\n",
    "        \n",
    "        self.filter_3= nn.Sequential(\n",
    "                            nn.Conv1d(in_channels=1,stride=1,padding=0,kernel_size=filter_list[2]*input_size,out_channels=out_channels),\n",
    "                            nn.BatchNorm1d(out_channels),\n",
    "                            nn.ReLU()\n",
    "                        )\n",
    "        \n",
    "        self.fc=nn.Linear(out_channels*len(filter_list),num_class)\n",
    "        \n",
    "    def forward(self,x):\n",
    "        x=self.embed(x)\n",
    "        \n",
    "        x_cat=x.reshape(batch_size, 1, -1)\n",
    "        \n",
    "        out=[self.filter_1(x_cat),self.filter_2(x_cat),self.filter_3(x_cat)]\n",
    "        \n",
    "        out=[F.max_pool1d(conv,(conv.size(2),)).squeeze(2) for conv in out]\n",
    "        \n",
    "        out=torch.cat(out,1)\n",
    "        \n",
    "        \n",
    "        out=self.fc(out)\n",
    "        \n",
    "        out=F.softmax(out,dim=1)\n",
    "        \n",
    "        return out\n",
    "            \n",
    "    def predict(self,x,test_batch_size):\n",
    "    \n",
    "        x=self.embed(x)\n",
    "        x_cat=x.reshape(test_batch_size, 1, -1)\n",
    "        out=[self.filter_1(x_cat),self.filter_2(x_cat),self.filter_3(x_cat)]\n",
    "        \n",
    "        out=[F.max_pool1d(conv,(conv.size(2),)).squeeze(2) for conv in out]\n",
    "        \n",
    "        out=torch.cat(out,1)\n",
    "        \n",
    "        \n",
    "        out=self.fc(out)\n",
    "        \n",
    "        out=F.softmax(out,dim=1)\n",
    "        \n",
    "        return out\n",
    "    "
   ]
  },
  {
   "cell_type": "code",
   "execution_count": 108,
   "metadata": {},
   "outputs": [],
   "source": [
    "filter_list=[3,4,5]"
   ]
  },
  {
   "cell_type": "code",
   "execution_count": 109,
   "metadata": {},
   "outputs": [],
   "source": [
    "filter_sizes=[3,4,5]"
   ]
  },
  {
   "cell_type": "code",
   "execution_count": 110,
   "metadata": {},
   "outputs": [],
   "source": [
    " def pad_sequence(batch):\n",
    "        X_batch, y_batch = zip(*batch)\n",
    "        max_seq_length = max([len(x) for x in X_batch])\n",
    "        if max_seq_length < max(filter_list):\n",
    "            max_seq_length = max(filter_list)\n",
    "\n",
    "        res = []\n",
    "        for seq in X_batch:\n",
    "            if len(seq) < max_seq_length:\n",
    "                pad_seq = torch.LongTensor(seq + [0]*(max_seq_length-len(seq)))\n",
    "                res.append(pad_seq)\n",
    "            else:\n",
    "                res.append(torch.LongTensor(seq))\n",
    "        return torch.cat(res).reshape(batch_size, max_seq_length), torch.LongTensor(y_batch)"
   ]
  },
  {
   "cell_type": "code",
   "execution_count": 111,
   "metadata": {},
   "outputs": [],
   "source": [
    "model=Conv_net_1d(embedding_matrix=embedding_matrix,filter_list=[3,4,5],num_class=2,out_channels=100,input_size=300).to(device)\n",
    "criterion = nn.CrossEntropyLoss().to(device)\n",
    "optimizer = optim.Adam(model.parameters(),lr=0.01) # use L2-Norm"
   ]
  },
  {
   "cell_type": "code",
   "execution_count": 114,
   "metadata": {},
   "outputs": [],
   "source": [
    "batch_size=114\n",
    "test_batch_size=1"
   ]
  },
  {
   "cell_type": "code",
   "execution_count": 115,
   "metadata": {},
   "outputs": [],
   "source": [
    "train_loader=DataLoader(dataset=train_data, batch_size=batch_size, shuffle=True, collate_fn=pad_sequence)\n",
    "test_loader=DataLoader(dataset=test_data, batch_size=test_batch_size, shuffle=False)"
   ]
  },
  {
   "cell_type": "code",
   "execution_count": null,
   "metadata": {},
   "outputs": [
    {
     "name": "stdout",
     "output_type": "stream",
     "text": [
      "========= Update finished! ===========\n"
     ]
    },
    {
     "name": "stderr",
     "output_type": "stream",
     "text": [
      "/opt/conda/lib/python3.6/site-packages/sklearn/metrics/classification.py:1135: UndefinedMetricWarning: F-score is ill-defined and being set to 0.0 due to no predicted samples.\n",
      "  'precision', 'predicted', average, warn_for)\n"
     ]
    },
    {
     "name": "stdout",
     "output_type": "stream",
     "text": [
      "epoch: 0\n",
      "train_acc: 0.936 (42791/45714)\n",
      "train_f1: 0.007\n",
      "--------------------------\n",
      "val_acc: 0.938 (18381/19593)\n",
      "val_f1: 0.000\n",
      "avg_train_loss: 0.377\n",
      "avg_val_loss: 0.375\n",
      "==========================================================\n",
      "\n",
      "\n"
     ]
    },
    {
     "name": "stderr",
     "output_type": "stream",
     "text": [
      "/opt/conda/lib/python3.6/site-packages/sklearn/metrics/classification.py:1135: UndefinedMetricWarning: F-score is ill-defined and being set to 0.0 due to no predicted samples.\n",
      "  'precision', 'predicted', average, warn_for)\n"
     ]
    },
    {
     "name": "stdout",
     "output_type": "stream",
     "text": [
      "========= Update finished! ===========\n"
     ]
    }
   ],
   "source": [
    "%%time\n",
    "for epoch in range(10):\n",
    "    train_correct = 0\n",
    "    train_count = 0\n",
    "    train_loss = 0\n",
    "    val_correct = 0\n",
    "    val_count = 0\n",
    "    val_loss = 0   \n",
    "    \n",
    "        \n",
    "    train_y_pred=[]\n",
    "    train_y_true=[]\n",
    "    \n",
    "    val_y_pred=[]\n",
    "    val_y_true=[]\n",
    "    \n",
    "    # Training\n",
    "    model = model.train()\n",
    "    for X_batch, y_batch in train_loader:\n",
    "        model.zero_grad()\n",
    "        inputs = Variable(X_batch).to(device)\n",
    "        targets = Variable(y_batch).to(device)\n",
    "        \n",
    "        preds = model(inputs)\n",
    "     \n",
    "        loss = criterion(preds, targets)\n",
    "        train_loss += loss.item()\n",
    "        \n",
    "        compare_list=[]\n",
    "        target_list=[]\n",
    "        \n",
    "        compare = torch.max(preds, 1)[1]\n",
    "        \n",
    "        compare_list.append([i.item() for i in compare])\n",
    "        compare_list=compare_list[0]\n",
    "        target_list.append([i.item() for i in targets])\n",
    "        target_list=target_list[0]\n",
    "        \n",
    "        train_correct+=torch.sum(compare==targets).item()\n",
    "        train_count += X_batch.size(0)\n",
    "        \n",
    "        train_y_pred.extend(compare_list)\n",
    "        train_y_true.extend(target_list)\n",
    "        \n",
    "        loss.backward()\n",
    "        optimizer.step()\n",
    "    \n",
    "    train_acc = train_correct/train_count\n",
    "    avg_train_loss = train_loss/(train_count/batch_size)\n",
    " #   print(confusion_matrix(y_pred=train_y_pred,y_true=train_y_true))\n",
    "    f1=f1_score(y_pred=train_y_pred,y_true=train_y_true)\n",
    "    \n",
    "    print('========= Update finished! ===========')\n",
    "    \n",
    "    model = model.eval()\n",
    "    with torch.no_grad():          \n",
    "        for X_batch, y_batch in test_loader:\n",
    "            val_count += 1         \n",
    "            if len(X_batch) < max(filter_list):\n",
    "                X_batch = torch.LongTensor(X_batch + [word2idx.get(\"<pad>\")]*(max(filter_sizes)-len(X_batch))).to(device)\n",
    "            else:\n",
    "                X_batch = torch.LongTensor(X_batch).to(device)\n",
    "            input = Variable(X_batch).to(device)\n",
    "            target = Variable(torch.LongTensor(y_batch)).to(device)\n",
    "            pred = model.predict(input, test_batch_size=1)\n",
    "\n",
    "            loss = criterion(pred, target)\n",
    "            val_loss += loss.item()\n",
    "            \n",
    "            test_pred_list=[]\n",
    "            test_true_list=[]\n",
    "            \n",
    "            _, pred = torch.max(pred, 1)\n",
    "            true = y_batch.item()\n",
    "            if true == pred.item():\n",
    "                val_correct +=1\n",
    "                          \n",
    "            test_pred_list.append([i.item() for i in pred])\n",
    "            test_pred_list=test_pred_list[0]\n",
    "            test_true_list.append([i.item() for i in target])\n",
    "            test_true_list=test_true_list[0]\n",
    "            \n",
    "            val_y_pred.extend(test_pred_list)\n",
    "            val_y_true.extend(test_true_list)\n",
    "            \n",
    "        val_acc = val_correct/val_count\n",
    "        avg_val_loss = val_loss/val_count\n",
    "        \n",
    "        f1_val=f1_score(y_pred=val_y_pred,y_true=val_y_true)\n",
    "        \n",
    "    if epoch % 1 == 0 or epoch == (10-1):\n",
    "  #      plt.show()\n",
    "  #      plt.figure(figsize=(10,5))\n",
    "  #      sns.heatmap(confusion_matrix(y_pred=train_y_pred,y_true=train_y_true),cmap='summer',annot=True)\n",
    "        \n",
    "        print('epoch: {:d}'.format(epoch))\n",
    "        print('train_acc: {:.3f} ({:d}/{:d})'.format(train_acc, train_correct, train_count))\n",
    "        \n",
    "        print('train_f1: {:.3f}' .format(f1))\n",
    "        print('--------------------------')\n",
    "        \n",
    "  #      sns.heatmap(confusion_matrix(y_pred=val_y_pred,y_true=val_y_true),cmap='summer',annot=True)\n",
    "        print('val_acc: {:.3f} ({:d}/{:d})'.format(val_acc, val_correct, val_count))\n",
    "        print('val_f1: {:.3f}' .format(f1_val))\n",
    "        print('avg_train_loss: {:.3f}'.format(avg_train_loss))        \n",
    "        print('avg_val_loss: {:.3f}'.format(avg_val_loss))\n",
    "        print(\"==========================================================\")\n",
    "        print('\\n')\n",
    "    "
   ]
  },
  {
   "cell_type": "code",
   "execution_count": null,
   "metadata": {},
   "outputs": [],
   "source": []
  },
  {
   "cell_type": "code",
   "execution_count": null,
   "metadata": {},
   "outputs": [],
   "source": []
  }
 ],
 "metadata": {
  "kernelspec": {
   "display_name": "Python 3",
   "language": "python",
   "name": "python3"
  },
  "language_info": {
   "codemirror_mode": {
    "name": "ipython",
    "version": 3
   },
   "file_extension": ".py",
   "mimetype": "text/x-python",
   "name": "python",
   "nbconvert_exporter": "python",
   "pygments_lexer": "ipython3",
   "version": "3.6.6"
  }
 },
 "nbformat": 4,
 "nbformat_minor": 2
}
